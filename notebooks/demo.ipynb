{
 "cells": [
  {
   "cell_type": "code",
   "execution_count": 1,
   "metadata": {},
   "outputs": [
    {
     "data": {
      "text/plain": [
       "2"
      ]
     },
     "execution_count": 1,
     "metadata": {},
     "output_type": "execute_result"
    }
   ],
   "source": [
    "1 + 1"
   ]
  },
  {
   "cell_type": "code",
   "execution_count": 2,
   "metadata": {},
   "outputs": [],
   "source": [
    "dev_mode = false\n",
    "\n",
    "using Distributed\n",
    "\n",
    "if !dev_mode\n",
    "    if nprocs() == 1 addprocs(4) end\n",
    "end\n",
    "\n",
    "using MLToolkit: flatten_dict, dict2namedtuple\n",
    "@everywhere using Random: seed!\n",
    "\n",
    "if dev_mode\n",
    "    using Revise\n",
    "end\n",
    "\n",
    "@everywhere using RMMMDNets\n",
    "\n",
    ";"
   ]
  },
  {
   "cell_type": "code",
   "execution_count": 11,
   "metadata": {},
   "outputs": [
    {
     "name": "stderr",
     "output_type": "stream",
     "text": [
      "┌ Info: On dataset gaussian with args\n",
      "│   batch_size_gen = 500\n",
      "│   batch_size = 500\n",
      "│   σ_last = identity\n",
      "│   D_z = 5\n",
      "│   D_fx = 2\n",
      "│   dataset = gaussian\n",
      "│   σ = tanh\n",
      "│   opt = adam\n",
      "│   model_name = rmmmdnet\n",
      "│   n_epochs = 200\n",
      "│   D_h = 10,10\n",
      "│   σs = 1,2\n",
      "│   lr = 0.001\n",
      "└ @ Main /afs/inf.ed.ac.uk/user/s16/s1672897/projects/RMMMDNets.jl/scripting.jl:73\n",
      "┌ Info: On dataset gaussian with args\n",
      "│   batch_size_gen = 500\n",
      "│   batch_size = 500\n",
      "│   σ_last = identity\n",
      "│   D_z = 5\n",
      "│   D_fx = 2\n",
      "│   dataset = gaussian\n",
      "│   σ = tanh\n",
      "│   opt = adam\n",
      "│   model_name = rmmmdnet\n",
      "│   n_epochs = 200\n",
      "│   D_h = 20,20\n",
      "│   σs = 1,2\n",
      "│   lr = 0.001\n",
      "└ @ Main /afs/inf.ed.ac.uk/user/s16/s1672897/projects/RMMMDNets.jl/scripting.jl:73\n",
      "┌ Info: On dataset gaussian with args\n",
      "│   batch_size_gen = 500\n",
      "│   batch_size = 500\n",
      "│   σ_last = identity\n",
      "│   D_z = 5\n",
      "│   D_fx = 2\n",
      "│   dataset = gaussian\n",
      "│   σ = tanh\n",
      "│   opt = adam\n",
      "│   model_name = rmmmdnet\n",
      "│   n_epochs = 200\n",
      "│   D_h = 100,100\n",
      "│   σs = 1,2\n",
      "│   lr = 0.001\n",
      "└ @ Main /afs/inf.ed.ac.uk/user/s16/s1672897/projects/RMMMDNets.jl/scripting.jl:73\n"
     ]
    }
   ],
   "source": [
    "dataset = \"gaussian\"\n",
    "# dataset = \"ring\"\n",
    "# dataset = \"mnist\"\n",
    "\n",
    "@everywhere data = get_data($dataset)\n",
    "\n",
    "# model_name = \"mmdnet\"\n",
    "model_name = \"rmmmdnet\"\n",
    "\n",
    "include(\"scripting.jl\")\n",
    "\n",
    "args_exp_name_list = if dev_mode\n",
    "    args, exp_name = get_args(\n",
    "        dataset, \n",
    "        model_name;\n",
    "        override=Dict{Symbol,Any}(), suffix=\"\"\n",
    "    )\n",
    "    [(args, exp_name)]\n",
    "else\n",
    "    let d=dataset, m=model_name\n",
    "        [get_args(d, m; override=Dict(:D_h => D_h)) for D_h in [\"10,10\", \"20,20\", \"100,100\"]]\n",
    "    end\n",
    "end\n",
    "\n",
    ";"
   ]
  },
  {
   "cell_type": "code",
   "execution_count": null,
   "metadata": {},
   "outputs": [
    {
     "name": "stderr",
     "output_type": "stream",
     "text": [
      "┌ Info: Init rmmmdnet with 1,264 parameters\n",
      "└   logdir = \"gaussian/rmmmdnet/opt=adam-σ=tanh-D_h=20,20-σs=1,2-D_fx=2-D_z=5/20092019-23-14-4\"\n",
      "┌ Info: Init rmmmdnet with 434 parameters\n",
      "└   logdir = \"gaussian/rmmmdnet/opt=adam-σ=tanh-D_h=10,10-σs=1,2-D_fx=2-D_z=5/20092019-23-14-4\"\n",
      "┌ Info: Init rmmmdnet with 22,304 parameters\n",
      "└   logdir = \"gaussian/rmmmdnet/opt=adam-σ=tanh-D_h=100,100-σs=1,2-D_fx=2-D_z=5/20092019-23-14-4\"\n"
     ]
    }
   ],
   "source": [
    "@everywhere function run_exp(args, exp_name)\n",
    "    seed!(1234)\n",
    "\n",
    "    model = get_model(args.model_name, args, data, exp_name)\n",
    "\n",
    "    vis(data, model)\n",
    "\n",
    "    dataloader = DataLoader(data, args.batch_size)\n",
    "    \n",
    "    train!(model, args.n_epochs, dataloader)\n",
    "end\n",
    "\n",
    "@sync @distributed for (args, exp_name) in args_exp_name_list\n",
    "    run_exp(args, exp_name)\n",
    "end\n",
    "\n",
    ";"
   ]
  },
  {
   "cell_type": "code",
   "execution_count": null,
   "metadata": {},
   "outputs": [],
   "source": []
  }
 ],
 "metadata": {
  "kernelspec": {
   "display_name": "Julia 1.2.0",
   "language": "julia",
   "name": "julia-1.2"
  },
  "language_info": {
   "file_extension": ".jl",
   "mimetype": "application/julia",
   "name": "julia",
   "version": "1.2.0"
  }
 },
 "nbformat": 4,
 "nbformat_minor": 4
}
