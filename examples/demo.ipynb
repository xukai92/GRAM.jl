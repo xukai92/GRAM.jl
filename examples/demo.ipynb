{
 "cells": [
  {
   "cell_type": "code",
   "execution_count": 1,
   "metadata": {},
   "outputs": [
    {
     "data": {
      "text/plain": [
       "2"
      ]
     },
     "execution_count": 1,
     "metadata": {},
     "output_type": "execute_result"
    }
   ],
   "source": [
    "1 + 1"
   ]
  },
  {
   "cell_type": "code",
   "execution_count": 2,
   "metadata": {},
   "outputs": [
    {
     "name": "stderr",
     "output_type": "stream",
     "text": [
      "┌ Info: Recompiling stale cache file /afs/inf.ed.ac.uk/user/s16/s1672897/.julia/compiled/v1.2/RMMMDNets/mJmbq.ji for RMMMDNets [7ea7fd3b-14e3-4223-94d2-c341911ad28e]\n",
      "└ @ Base loading.jl:1240\n"
     ]
    }
   ],
   "source": [
    "dev_mode = false\n",
    "\n",
    "using Distributed\n",
    "\n",
    "if !dev_mode\n",
    "    if nprocs() == 1 addprocs(4) end\n",
    "end\n",
    "\n",
    "using MLToolkit: flatten_dict, dict2namedtuple\n",
    "\n",
    "@everywhere begin \n",
    "    using Random: seed!\n",
    "    using Revise\n",
    "    using RMMMDNets\n",
    "end\n",
    "\n",
    ";"
   ]
  },
  {
   "cell_type": "code",
   "execution_count": 3,
   "metadata": {},
   "outputs": [
    {
     "name": "stderr",
     "output_type": "stream",
     "text": [
      "┌ Info: On dataset ring with args\n",
      "│   batch_size_gen = 500\n",
      "│   batch_size = 500\n",
      "│   Df_h = 100,10\n",
      "│   Dg_h = 100,100\n",
      "│   σ_last = identity\n",
      "│   D_z = 10\n",
      "│   D_fx = 1\n",
      "│   dataset = ring\n",
      "│   σ = relu\n",
      "│   opt = adam_akash\n",
      "│   model_name = rmmmdnet\n",
      "│   n_epochs = 50\n",
      "│   σs = 1\n",
      "│   lr = 0.001\n",
      "│   seed = 1\n",
      "└ @ Main /afs/inf.ed.ac.uk/user/s16/s1672897/projects/RMMMDNets.jl/scripting.jl:84\n",
      "┌ Info: On dataset ring with args\n",
      "│   batch_size_gen = 500\n",
      "│   batch_size = 500\n",
      "│   Df_h = 100,10\n",
      "│   Dg_h = 100,100\n",
      "│   σ_last = identity\n",
      "│   D_z = 10\n",
      "│   D_fx = 1\n",
      "│   dataset = ring\n",
      "│   σ = relu\n",
      "│   opt = adam_akash\n",
      "│   model_name = rmmmdnet\n",
      "│   n_epochs = 50\n",
      "│   σs = 1\n",
      "│   lr = 0.001\n",
      "│   seed = 2\n",
      "└ @ Main /afs/inf.ed.ac.uk/user/s16/s1672897/projects/RMMMDNets.jl/scripting.jl:84\n",
      "┌ Info: On dataset ring with args\n",
      "│   batch_size_gen = 500\n",
      "│   batch_size = 500\n",
      "│   Df_h = 100,10\n",
      "│   Dg_h = 100,100\n",
      "│   σ_last = identity\n",
      "│   D_z = 10\n",
      "│   D_fx = 1\n",
      "│   dataset = ring\n",
      "│   σ = relu\n",
      "│   opt = adam_akash\n",
      "│   model_name = rmmmdnet\n",
      "│   n_epochs = 50\n",
      "│   σs = 1\n",
      "│   lr = 0.001\n",
      "│   seed = 3\n",
      "└ @ Main /afs/inf.ed.ac.uk/user/s16/s1672897/projects/RMMMDNets.jl/scripting.jl:84\n",
      "┌ Info: On dataset ring with args\n",
      "│   batch_size_gen = 500\n",
      "│   batch_size = 500\n",
      "│   Df_h = 100,10\n",
      "│   Dg_h = 100,100\n",
      "│   σ_last = identity\n",
      "│   D_z = 10\n",
      "│   D_fx = 1\n",
      "│   dataset = ring\n",
      "│   σ = relu\n",
      "│   opt = adam_akash\n",
      "│   model_name = rmmmdnet\n",
      "│   n_epochs = 50\n",
      "│   σs = 1\n",
      "│   lr = 0.001\n",
      "│   seed = 4\n",
      "└ @ Main /afs/inf.ed.ac.uk/user/s16/s1672897/projects/RMMMDNets.jl/scripting.jl:84\n"
     ]
    }
   ],
   "source": [
    "# dataset = \"gaussian\"\n",
    "dataset = \"ring\"\n",
    "# dataset = \"mnist\"\n",
    "\n",
    "# model_name = \"mmdnet\"\n",
    "model_name = \"rmmmdnet\"\n",
    "\n",
    "include(\"scripting.jl\")\n",
    "\n",
    "args_list = if dev_mode\n",
    "    args = get_args(\n",
    "        dataset, \n",
    "        model_name;\n",
    "        override=Dict{Symbol,Any}(), suffix=\"\"\n",
    "    )\n",
    "    [args]\n",
    "else\n",
    "    let d=dataset, m=model_name\n",
    "        [get_args(d, m; override=Dict(:seed => seed), suffix=\"seed=$seed\") for seed in [1, 2, 3, 4]]\n",
    "    end\n",
    "end\n",
    "\n",
    ";"
   ]
  },
  {
   "cell_type": "code",
   "execution_count": 4,
   "metadata": {},
   "outputs": [
    {
     "name": "stderr",
     "output_type": "stream",
     "text": [
      "┌ Info: Init rmmmdnet with 12,723 parameters\n",
      "└   logdir = \"ring/rmmmdnet/opt=adam_akash-σ=relu-σs=1-Df_h=100,10-Dg_h=100,100-D_fx=1-D_z=10-seed=3/21092019-15-42-16\"\n",
      "┌ Info: Init rmmmdnet with 12,723 parameters\n",
      "└   logdir = \"ring/rmmmdnet/opt=adam_akash-σ=relu-σs=1-Df_h=100,10-Dg_h=100,100-D_fx=1-D_z=10-seed=1/21092019-15-42-16\"\n",
      "┌ Info: Init rmmmdnet with 12,723 parameters\n",
      "└   logdir = \"ring/rmmmdnet/opt=adam_akash-σ=relu-σs=1-Df_h=100,10-Dg_h=100,100-D_fx=1-D_z=10-seed=2/21092019-15-42-16\"\n",
      "┌ Info: Init rmmmdnet with 12,723 parameters\n",
      "└   logdir = \"ring/rmmmdnet/opt=adam_akash-σ=relu-σs=1-Df_h=100,10-Dg_h=100,100-D_fx=1-D_z=10-seed=4/21092019-15-42-16\"\n"
     ]
    },
    {
     "name": "stdout",
     "output_type": "stream",
     "text": [
      "Progress: 100%|█████████████████████████████████████████| Time: 0:02:08\u001b[K\n",
      "Progress: 100%|█████████████████████████████████████████| Time: 0:02:08\u001b[K\n",
      "Progress: 100%|█████████████████████████████████████████| Time: 0:02:11\u001b[K\n",
      "Progress: 100%|█████████████████████████████████████████| Time: 0:02:11\u001b[K\n"
     ]
    }
   ],
   "source": [
    "@everywhere function run_exp(args)\n",
    "    data = get_data(args.dataset)\n",
    "    \n",
    "    seed!(args.seed)\n",
    "\n",
    "    model = get_model(args, data)\n",
    "\n",
    "    vis(data, model)\n",
    "\n",
    "    dataloader = DataLoader(data, args.batch_size)\n",
    "    \n",
    "    train!(model, args.n_epochs, dataloader)\n",
    "end\n",
    "\n",
    "@sync @distributed for args in args_list\n",
    "    run_exp(args)\n",
    "end\n",
    "\n",
    ";"
   ]
  },
  {
   "cell_type": "code",
   "execution_count": null,
   "metadata": {},
   "outputs": [],
   "source": []
  }
 ],
 "metadata": {
  "kernelspec": {
   "display_name": "Julia 1.2.0",
   "language": "julia",
   "name": "julia-1.2"
  },
  "language_info": {
   "file_extension": ".jl",
   "mimetype": "application/julia",
   "name": "julia",
   "version": "1.2.0"
  }
 },
 "nbformat": 4,
 "nbformat_minor": 4
}
