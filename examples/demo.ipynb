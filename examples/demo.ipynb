{
 "cells": [
  {
   "cell_type": "code",
   "execution_count": null,
   "metadata": {},
   "outputs": [],
   "source": [
    "using Pkg.TOML\n",
    "\n",
    "using Random: seed!\n",
    "using Revise\n",
    "using RMMMDNets\n",
    "\n",
    "# enable_gpu()\n",
    "# disable_gpu()\n",
    "\n",
    ";"
   ]
  },
  {
   "cell_type": "code",
   "execution_count": null,
   "metadata": {},
   "outputs": [],
   "source": [
    "rmmmdnets_path = pathof(RMMMDNets) |> splitdir |> first |> splitdir |> first\n",
    "hyper = TOML.parsefile(\"$rmmmdnets_path/examples/Hyper.toml\")\n",
    "\n",
    "# dataset = \"gaussian\"\n",
    "# dataset = \"ring\"\n",
    "dataset = \"mnist\"\n",
    "# model_name = \"gan\"\n",
    "# model_name = \"mmdnet\"\n",
    "model_name = \"rmmmdnet\"\n",
    "\n",
    "args_dict = parse_toml(hyper, dataset, model_name)\n",
    "args = parse_args_dict(args_dict; override=(seed=1, lr=1f-3, Df_h=\"conv\", sigma=\"0.1,1,10,100\",))\n",
    "\n",
    "###\n",
    "\n",
    "data = get_data(dataset)\n",
    "\n",
    ";"
   ]
  },
  {
   "cell_type": "code",
   "execution_count": null,
   "metadata": {},
   "outputs": [],
   "source": [
    "function run_exp(args)    \n",
    "    seed!(args.seed)\n",
    "\n",
    "    model = get_model(args, data)\n",
    "    evaluate(data, model)\n",
    "\n",
    "    dataloader = DataLoader(data, args.batch_size)\n",
    "    \n",
    "    train!(model, args.n_epochs, dataloader)\n",
    "    evaluate(data, model)\n",
    "    \n",
    "    model_fname = save!(model)\n",
    "    \n",
    "    return model, model_fname\n",
    "end\n",
    "\n",
    "model_trained, model_trained_fname = run_exp(args)\n",
    "\n",
    ";"
   ]
  },
  {
   "cell_type": "code",
   "execution_count": null,
   "metadata": {},
   "outputs": [],
   "source": []
  }
 ],
 "metadata": {
  "kernelspec": {
   "display_name": "Julia 1.2.0",
   "language": "julia",
   "name": "julia-1.2"
  },
  "language_info": {
   "file_extension": ".jl",
   "mimetype": "application/julia",
   "name": "julia",
   "version": "1.2.0"
  }
 },
 "nbformat": 4,
 "nbformat_minor": 4
}
