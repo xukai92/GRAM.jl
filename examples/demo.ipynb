{
 "cells": [
  {
   "cell_type": "code",
   "execution_count": 1,
   "metadata": {},
   "outputs": [],
   "source": [
    "using Pkg.TOML\n",
    "\n",
    "using Random: seed!\n",
    "using RMMMDNets\n",
    "\n",
    "# enable_gpu()\n",
    "\n",
    ";"
   ]
  },
  {
   "cell_type": "code",
   "execution_count": 8,
   "metadata": {},
   "outputs": [
    {
     "name": "stderr",
     "output_type": "stream",
     "text": [
      "┌ Info: Args\n",
      "│   batch_size_gen = 200\n",
      "│   batch_size = 200\n",
      "│   act = relu\n",
      "│   Dg_h = 100,100\n",
      "│   D_z = 10\n",
      "│   dataset = ring\n",
      "│   act_last = identity\n",
      "│   opt = adam\n",
      "│   model_name = gan\n",
      "│   n_epochs = 1000\n",
      "│   Dd_h = 100,100\n",
      "│   beta1 = 0.5\n",
      "│   base = gaussian\n",
      "│   lr = 0.0001\n",
      "│   seed = 1\n",
      "└ @ RMMMDNets /afs/inf.ed.ac.uk/user/s16/s1672897/projects/RMMMDNets.jl/src/RMMMDNets.jl:34\n"
     ]
    }
   ],
   "source": [
    "rmmmdnets_path = pathof(RMMMDNets) |> splitdir |> first |> splitdir |> first\n",
    "hyper = TOML.parsefile(\"$rmmmdnets_path/examples/Hyper.toml\")\n",
    "\n",
    "# dataset = \"gaussian\"\n",
    "dataset = \"ring\"\n",
    "# dataset = \"mnist\"\n",
    "\n",
    "model_name = \"gan\"\n",
    "# model_name = \"mmdnet\"\n",
    "# model_name = \"rmmmdnet\"\n",
    "\n",
    "args_dict = parse_toml(hyper, dataset, model_name)\n",
    "args = parse_args_dict(args_dict; override=(D_z=10,))\n",
    "\n",
    ";"
   ]
  },
  {
   "cell_type": "code",
   "execution_count": null,
   "metadata": {},
   "outputs": [],
   "source": [
    "function run_exp(args)\n",
    "    data = get_data(args.dataset)\n",
    "    \n",
    "    seed!(args.seed)\n",
    "\n",
    "    model = get_model(args, data)\n",
    "\n",
    "    evaluate(data, model)\n",
    "\n",
    "    dataloader = DataLoader(data, args.batch_size)\n",
    "    \n",
    "    train!(model, args.n_epochs, dataloader)\n",
    "    \n",
    "    return data, model\n",
    "end\n",
    "\n",
    "data, model = run_exp(args)\n",
    "\n",
    ";"
   ]
  }
 ],
 "metadata": {
  "kernelspec": {
   "display_name": "Julia 1.2.0",
   "language": "julia",
   "name": "julia-1.2"
  },
  "language_info": {
   "file_extension": ".jl",
   "mimetype": "application/julia",
   "name": "julia",
   "version": "1.2.0"
  }
 },
 "nbformat": 4,
 "nbformat_minor": 4
}
