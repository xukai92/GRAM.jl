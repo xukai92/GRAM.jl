{
 "cells": [
  {
   "cell_type": "code",
   "execution_count": 1,
   "metadata": {},
   "outputs": [
    {
     "name": "stdout",
     "output_type": "stream",
     "text": [
      "\u001b[32m\u001b[1mActivating\u001b[22m\u001b[39m environment at `~/.julia/environments/v1.2/Project.toml`\n",
      "\u001b[32m\u001b[1m Resolving\u001b[22m\u001b[39m package versions...\n",
      "\u001b[32m\u001b[1m  Updating\u001b[22m\u001b[39m `~/.julia/environments/v1.2/Project.toml`\n",
      "\u001b[90m [no changes]\u001b[39m\n",
      "\u001b[32m\u001b[1m  Updating\u001b[22m\u001b[39m `~/.julia/environments/v1.2/Manifest.toml`\n",
      "\u001b[90m [no changes]\u001b[39m\n",
      "\u001b[32m\u001b[1m    Status\u001b[22m\u001b[39m `~/.julia/environments/v1.2/Project.toml`\n",
      " \u001b[90m [fbb218c0]\u001b[39m\u001b[37m BSON v0.2.4\u001b[39m\n",
      " \u001b[90m [6e4b80f9]\u001b[39m\u001b[37m BenchmarkTools v0.4.3\u001b[39m\n",
      " \u001b[90m [3895d2a7]\u001b[39m\u001b[37m CUDAapi v1.2.0\u001b[39m\n",
      " \u001b[90m [c5f51814]\u001b[39m\u001b[37m CUDAdrv v4.0.0 #master (https://github.com/JuliaGPU/CUDAdrv.jl.git)\u001b[39m\n",
      " \u001b[90m [be33ccc6]\u001b[39m\u001b[37m CUDAnative v2.4.0 #master (https://github.com/JuliaGPU/CUDAnative.jl.git)\u001b[39m\n",
      " \u001b[90m [3a865a2d]\u001b[39m\u001b[37m CuArrays v1.3.0 [`~/projects/CuArrays.jl`]\u001b[39m\n",
      " \u001b[90m [ab46fb84]\u001b[39m\u001b[37m DensityRatioEstimation v0.2.1\u001b[39m\n",
      " \u001b[90m [31c24e10]\u001b[39m\u001b[37m Distributions v0.21.5\u001b[39m\n",
      " \u001b[90m [ced4e74d]\u001b[39m\u001b[37m DistributionsAD v0.1.0\u001b[39m\n",
      " \u001b[90m [26cc04aa]\u001b[39m\u001b[37m FiniteDifferences v0.8.0\u001b[39m\n",
      " \u001b[90m [587475ba]\u001b[39m\u001b[37m Flux v0.9.0 [`~/projects/Flux.jl`]\u001b[39m\n",
      " \u001b[90m [f6369f11]\u001b[39m\u001b[37m ForwardDiff v0.10.4\u001b[39m\n",
      " \u001b[90m [92c85e6c]\u001b[39m\u001b[37m GSL v0.6.0\u001b[39m\n",
      " \u001b[90m [7ec9b9c5]\u001b[39m\u001b[37m Humanize v1.0.0\u001b[39m\n",
      " \u001b[90m [7073ff75]\u001b[39m\u001b[37m IJulia v1.20.0\u001b[39m\n",
      " \u001b[90m [6218d12a]\u001b[39m\u001b[37m ImageMagick v0.7.5\u001b[39m\n",
      " \u001b[90m [519e820e]\u001b[39m\u001b[37m MLToolkit v0.3.0 [`~/projects/MLToolkit.jl`]\u001b[39m\n",
      " \u001b[90m [872c559c]\u001b[39m\u001b[37m NNlib v0.6.0 #master (https://github.com/FluxML/NNlib.jl.git)\u001b[39m\n",
      " \u001b[90m [92933f4c]\u001b[39m\u001b[37m ProgressMeter v1.1.0\u001b[39m\n",
      " \u001b[90m [438e738f]\u001b[39m\u001b[37m PyCall v1.91.2\u001b[39m\n",
      " \u001b[90m [d330b81b]\u001b[39m\u001b[37m PyPlot v2.8.2\u001b[39m\n",
      " \u001b[90m [7ea7fd3b]\u001b[39m\u001b[37m RMMMDNets v0.1.0 [`~/projects/GRAM-nets/GRAM.jl`]\u001b[39m\n",
      " \u001b[90m [295af30f]\u001b[39m\u001b[37m Revise v2.2.2\u001b[39m\n",
      " \u001b[90m [4c63d2b9]\u001b[39m\u001b[37m StatsFuns v0.8.0+ #master (https://github.com/JuliaStats/StatsFuns.jl.git)\u001b[39m\n",
      " \u001b[90m [899adc3e]\u001b[39m\u001b[37m TensorBoardLogger v0.1.5\u001b[39m\n",
      " \u001b[90m [9f7883ad]\u001b[39m\u001b[37m Tracker v0.2.3\u001b[39m\n",
      " \u001b[90m [e88e6eb3]\u001b[39m\u001b[37m Zygote v0.3.4 #master (https://github.com/FluxML/Zygote.jl.git)\u001b[39m\n",
      " \u001b[90m [700de1a5]\u001b[39m\u001b[37m ZygoteRules v0.2.0 #master (https://github.com/FluxML/ZygoteRules.jl.git)\u001b[39m\n"
     ]
    }
   ],
   "source": [
    "using Pkg\n",
    "pkg\"activate ~/.julia/environments/v1.2\"\n",
    "pkg\"resolve\"\n",
    "pkg\"st\""
   ]
  },
  {
   "cell_type": "code",
   "execution_count": 2,
   "metadata": {},
   "outputs": [
    {
     "name": "stderr",
     "output_type": "stream",
     "text": [
      "┌ Info: Precompiling RMMMDNets [7ea7fd3b-14e3-4223-94d2-c341911ad28e]\n",
      "└ @ Base loading.jl:1242\n",
      "┌ Info: Skipping precompilation since __precompile__(false). Importing RMMMDNets [7ea7fd3b-14e3-4223-94d2-c341911ad28e].\n",
      "└ @ Base loading.jl:1017\n",
      "┌ Warning: Could not find libcutensor, CuArrays.CUTENSOR will be unavailable.\n",
      "└ @ CuArrays /afs/inf.ed.ac.uk/user/s16/s1672897/projects/CuArrays.jl/src/CuArrays.jl:82\n",
      "┌ Info: Recompiling stale cache file /afs/inf.ed.ac.uk/user/s16/s1672897/.julia/compiled/v1.2/MLToolkit/GGQB9.ji for MLToolkit [519e820e-097c-11e9-2274-1b004aeb0b9b]\n",
      "└ @ Base loading.jl:1240\n"
     ]
    }
   ],
   "source": [
    "using Revise\n",
    "using RMMMDNets\n",
    "\n",
    ";"
   ]
  },
  {
   "cell_type": "code",
   "execution_count": 124,
   "metadata": {},
   "outputs": [
    {
     "name": "stderr",
     "output_type": "stream",
     "text": [
      "┌ Info: Args\n",
      "│   Dhs_g = 100,100\n",
      "│   act = relu\n",
      "│   dataset = ring\n",
      "│   sigma = 1\n",
      "│   Dz = 20\n",
      "│   batchsize = 200\n",
      "│   opt = adam\n",
      "│   norm = false\n",
      "│   Df = 10\n",
      "│   n_epochs = 2000\n",
      "│   actlast = identity\n",
      "│   beta1 = 0.5\n",
      "│   modelname = rmmmdnet\n",
      "│   Dhs_f = 100,100\n",
      "│   batchsize_g = 200\n",
      "│   base = gaussian\n",
      "│   lr = 0.001\n",
      "│   seed = 1\n",
      "└ @ MLToolkit.Scripting /afs/inf.ed.ac.uk/user/s16/s1672897/projects/MLToolkit.jl/src/Scripting/args.jl:45\n"
     ]
    }
   ],
   "source": [
    "grampath = pathof(RMMMDNets) |> splitdir |> first |> splitdir |> first\n",
    "hyperpath = \"$grampath/examples/Hyper.toml\"\n",
    "\n",
    "dataset = begin\n",
    "#     \"gaussian\"\n",
    "    \"ring\"\n",
    "#     \"mnist\"\n",
    "end\n",
    "\n",
    "modelname = begin\n",
    "#     \"mmdnet\"\n",
    "#     \"gan\"\n",
    "    \"rmmmdnet\"\n",
    "end\n",
    "\n",
    "argdict = parse_toml(hyperpath, dataset, modelname)\n",
    "args = process_argdict(argdict)\n",
    "\n",
    ";"
   ]
  },
  {
   "cell_type": "code",
   "execution_count": 126,
   "metadata": {},
   "outputs": [
    {
     "name": "stderr",
     "output_type": "stream",
     "text": [
      "┌ Info: Init rmmmdnet with 23,812 parameters\n",
      "│   logdir = ring/rmmmdnet/Dhs_g=100,100-act=relu-dataset=ring-sigma=1-Dz=20-batchsize=200-opt=adam-norm=false-Df=10-n_epochs=2000-actlast=identity-beta1=0.5-modelname=rmmmdnet-Dhs_f=100,100-batchsize_g=200-base=gaussian-lr=0.001-seed=1/01112019-13-8-4\n",
      "└ @ RMMMDNets /afs/inf.ed.ac.uk/user/s16/s1672897/projects/GRAM-nets/GRAM.jl/src/RMMMDNets.jl:170\n",
      "\u001b[32mTraining100%|███████████████████████████████████████████| Time: 0:09:35\u001b[39m1:58\u001b[39m\n",
      "┌ Info: Saved model at iteration 10000 to /afs/inf.ed.ac.uk/group/cup/data1/kai/logs/rmmmdnets/ring/rmmmdnet/Dhs_g=100,100-act=relu-dataset=ring-sigma=1-Dz=20-batchsize=200-opt=adam-norm=false-Df=10-n_epochs=2000-actlast=identity-beta1=0.5-modelname=rmmmdnet-Dhs_f=100,100-batchsize_g=200-base=gaussian-lr=0.001-seed=1/01112019-13-8-4/model.bson\n",
      "│   log_step_increment = 0\n",
      "└ @ MLToolkit.Neural /afs/inf.ed.ac.uk/user/s16/s1672897/projects/MLToolkit.jl/src/Neural/Neural.jl:135\n"
     ]
    }
   ],
   "source": [
    "dataloader, model, modelpath = run_exp(args)\n",
    "\n",
    ";"
   ]
  },
  {
   "cell_type": "code",
   "execution_count": null,
   "metadata": {},
   "outputs": [],
   "source": []
  }
 ],
 "metadata": {
  "kernelspec": {
   "display_name": "Julia 1.2.0",
   "language": "julia",
   "name": "julia-1.2"
  },
  "language_info": {
   "file_extension": ".jl",
   "mimetype": "application/julia",
   "name": "julia",
   "version": "1.2.0"
  }
 },
 "nbformat": 4,
 "nbformat_minor": 4
}
