{
 "cells": [
  {
   "cell_type": "code",
   "execution_count": 1,
   "metadata": {},
   "outputs": [
    {
     "name": "stdout",
     "output_type": "stream",
     "text": [
      "WARNING:tensorflow:From /afs/inf.ed.ac.uk/user/s16/s1672897/miniconda2/envs/ml/lib/python3.6/site-packages/tensorflow/python/util/deprecation_wrapper.py:119: The name tf.enable_eager_execution is deprecated. Please use tf.compat.v1.enable_eager_execution instead.\n",
      "\n"
     ]
    }
   ],
   "source": [
    "import PyPlot; plt = PyPlot\n",
    "\n",
    "using PyCall\n",
    "const tf = pyimport(\"tensorflow\")\n",
    "tf.compat.v1.enable_eager_execution()\n",
    "slim = tf.contrib.slim"
   ]
  },
  {
   "cell_type": "code",
   "execution_count": 242,
   "metadata": {},
   "outputs": [
    {
     "data": {
      "text/plain": [
       "compute_ratio (generic function with 2 methods)"
      ]
     },
     "execution_count": 242,
     "metadata": {},
     "output_type": "execute_result"
    }
   ],
   "source": [
    "function make_scale_matrix(n_gen, n_orig)\n",
    "    s1 =  tf.constant(1.0 / n_gen,  shape=[n_gen, 1])\n",
    "    s2 = -tf.constant(1.0 / n_orig, shape=[n_orig, 1])\n",
    "    return tf.concat([s1, s2], 0)\n",
    "end\n",
    "\n",
    "params = (batch_size=10, latend_dim=1)\n",
    "\n",
    "function compute_ratio(x, x_gen, sigma=[1])\n",
    "    X = tf.concat([x_gen, x], 0)\n",
    "    XX = tf.matmul(X, tf.transpose(X))\n",
    "    X2 = tf.reduce_sum(X * X, 1, keep_dims=true)\n",
    "    exponent = XX - 0.5 * X2 - 0.5 * tf.transpose(X2)\n",
    "    s = make_scale_matrix(params.batch_size, params.batch_size)\n",
    "    S = tf.matmul(s, tf.transpose(s))\n",
    "    n = params.batch_size\n",
    "    kernel_val = tf.exp(1.0 / sigma[1] * exponent)\n",
    "    k_de_de = py\"$kernel_val[:$n,:$n]\"\n",
    "    k_de_nu = py\"$kernel_val[:$n,$n:]\"\n",
    "    k_nu_nu = py\"$kernel_val[$n:,$n:]\"\n",
    "#     eps = tf.diag(tf.ones(params.batch_size) * 1f-3)\n",
    "    return (\n",
    "        inv=tf.linalg.inv(k_de_de),\n",
    "        k_de_de=k_de_de,\n",
    "        k_nu_nu=k_nu_nu,\n",
    "        ratio=tf.matmul(tf.matmul(tf.linalg.inv(k_de_de + eps), k_de_nu), tf.ones(shape=(params.batch_size, 1))), \n",
    "        mmd=tf.sqrt(tf.reduce_sum(S * kernel_val))\n",
    "    )\n",
    "end"
   ]
  },
  {
   "cell_type": "code",
   "execution_count": 243,
   "metadata": {},
   "outputs": [],
   "source": [
    "x = tf.random.normal((params.batch_size, params.latend_dim))\n",
    "x_gen = tf.random.normal((params.batch_size, params.latend_dim)) + 1\n",
    "\n",
    "ratio = compute_ratio(x, x_gen).ratio\n",
    "\n",
    ";"
   ]
  },
  {
   "cell_type": "code",
   "execution_count": 224,
   "metadata": {},
   "outputs": [
    {
     "data": {
      "image/png": "[encoded data removed]",
      "text/plain": [
       "PyPlot.Figure(PyObject <Figure size 640x480 with 1 Axes>)"
      ]
     },
     "metadata": {},
     "output_type": "display_data"
    },
    {
     "data": {
      "text/plain": [
       "PyObject <matplotlib.collections.PathCollection object at 0x7f8949fc23c8>"
      ]
     },
     "execution_count": 224,
     "metadata": {},
     "output_type": "execute_result"
    }
   ],
   "source": [
    "plt.scatter(x.numpy(), zeros(params.batch_size))\n",
    "plt.scatter(x_gen.numpy(), ones(params.batch_size))\n",
    "plt.scatter(x_gen.numpy(), ratio.numpy())"
   ]
  },
  {
   "cell_type": "code",
   "execution_count": 236,
   "metadata": {},
   "outputs": [
    {
     "data": {
      "text/plain": [
       "10×1 Array{Float32,2}:\n",
       "  0.1328491 \n",
       "  2.2417107 \n",
       " -0.10573971\n",
       "  1.4419965 \n",
       "  1.6975646 \n",
       "  0.1274457 \n",
       "  0.76847845\n",
       "  0.84680796\n",
       "  0.36343694\n",
       "  2.8554459 "
      ]
     },
     "execution_count": 236,
     "metadata": {},
     "output_type": "execute_result"
    }
   ],
   "source": [
    "x = x.numpy()\n",
    "x_gen = x_gen.numpy()"
   ]
  },
  {
   "cell_type": "code",
   "execution_count": 237,
   "metadata": {},
   "outputs": [],
   "source": [
    "using RMMMDNets"
   ]
  },
  {
   "cell_type": "code",
   "execution_count": 238,
   "metadata": {},
   "outputs": [
    {
     "data": {
      "text/plain": [
       "0.44729865f0"
      ]
     },
     "execution_count": 238,
     "metadata": {},
     "output_type": "execute_result"
    }
   ],
   "source": [
    "sqrt(RMMMDNets.compute_mmd(x', x_gen'; σs=[1]) ^ 2 - 1f-6)"
   ]
  },
  {
   "cell_type": "code",
   "execution_count": 239,
   "metadata": {},
   "outputs": [
    {
     "name": "stderr",
     "output_type": "stream",
     "text": [
      "┌ Info: Float32[0.7332266 0.4178531 0.59053946 0.87292045 0.7394767 0.73010147 0.9884915 0.99727875 0.8562158 0.15385365; 0.99145454 0.14143115 0.93397766 0.49957365 0.35781062 0.99073845 0.88045293 0.8437383 0.9950547 0.03479947; 0.4864651 0.0041864202 0.62962645 0.042888816 0.021858063 0.48962379 0.1853202 0.1600034 0.3591575 0.0004549552; 0.6307761 0.009014065 0.7708818 0.07619001 0.04129122 0.6340474 0.2799838 0.24633163 0.49225667 0.0011353935; 0.6187533 0.008479907 0.7597767 0.07282148 0.03926604 0.62202895 0.2712052 0.23823763 0.48066992 0.001055185; 0.9958034 0.13075256 0.94691217 0.47660083 0.3379452 0.9952955 0.8624969 0.82399046 0.99040294 0.031405237; 0.5379559 0.005561344 0.6819736 0.053147092 0.027694825 0.54119456 0.21658203 0.18827255 0.4052174 0.0006375048; 0.9769743 0.1666679 0.9018961 0.5501012 0.40263563 0.97582126 0.9156614 0.88332886 0.99989134 0.04320076; 0.99418145 0.1351111 0.9416956 0.48610127 0.34612253 0.9935868 0.8700722 0.83229095 0.99251825 0.03277882; 0.061812133 0.96907425 0.034215655 0.5760066 0.7291665 0.06102816 0.22630063 0.25822407 0.103709094 0.9362112]\n",
      "└ @ Main In[239]:5\n"
     ]
    }
   ],
   "source": [
    "function RMMMDNets.estimate_ratio(x_de, x_nu; σs=[], verbose=false)\n",
    "    function _estimate_ratio(pdot_dede, pdot_denu, pdot_nunu, σ)\n",
    "        Kdede = RMMMDNets.gaussian_gram_by_pairwise_sqd(pdot_dede, σ)\n",
    "        Kdenu = RMMMDNets.gaussian_gram_by_pairwise_sqd(pdot_denu, σ)\n",
    "        @info Kdenu\n",
    "        n_de, n_nu = size(Kdenu)\n",
    "        return convert(Float32, n_de / n_nu) * (Kdede \\ sum(Kdenu; dims=2)[:,1])\n",
    "    end\n",
    "    return RMMMDNets.multi_run(_estimate_ratio, x_de, x_nu, σs, verbose) / convert(Float32, length(σs))\n",
    "end\n",
    "\n",
    "ratio = RMMMDNets.estimate_ratio( x', x_gen'; σs=[1])\n",
    "\n",
    ";"
   ]
  },
  {
   "cell_type": "code",
   "execution_count": null,
   "metadata": {},
   "outputs": [],
   "source": [
    "┌ Info: PyObject <tf.Tensor: id=3867, shape=(10, 10), dtype=float32, numpy=\n",
    "│ array([[7.3322660e-01, 9.9145454e-01, 4.8646510e-01, 6.3077611e-01,\n",
    "│         6.1875331e-01, 9.9580342e-01, 5.3795588e-01, 9.7697431e-01,\n",
    "│         9.9418145e-01, 6.1812133e-02],\n",
    "│        [4.1785312e-01, 1.4143112e-01, 4.1864202e-03, 9.0140654e-03,\n",
    "│         8.4799072e-03, 1.3075256e-01, 5.5613439e-03, 1.6666788e-01,\n",
    "│         1.3511109e-01, 9.6907449e-01],\n",
    "│        [5.9053946e-01, 9.3397766e-01, 6.2962645e-01, 7.7088177e-01,\n",
    "│         7.5977665e-01, 9.4691217e-01, 6.8197358e-01, 9.0189612e-01,\n",
    "│         9.4169557e-01, 3.4215655e-02],\n",
    "│        [8.7292051e-01, 4.9957365e-01, 4.2888828e-02, 7.6190010e-02,\n",
    "│         7.2821498e-02, 4.7660086e-01, 5.3147092e-02, 5.5010122e-01,\n",
    "│         4.8610130e-01, 5.7600659e-01],\n",
    "│        [7.3947662e-01, 3.5781068e-01, 2.1858068e-02, 4.1291218e-02,\n",
    "│         3.9266028e-02, 3.3794519e-01, 2.7694825e-02, 4.0263563e-01,\n",
    "│         3.4612256e-01, 7.2916675e-01],\n",
    "│        [7.3010147e-01, 9.9073845e-01, 4.8962376e-01, 6.3404739e-01,\n",
    "│         6.2202889e-01, 9.9529552e-01, 5.4119456e-01, 9.7582126e-01,\n",
    "│         9.9358678e-01, 6.1028175e-02],\n",
    "│        [9.8849148e-01, 8.8045293e-01, 1.8532020e-01, 2.7998379e-01,\n",
    "│         2.7120519e-01, 8.6249691e-01, 2.1658203e-01, 9.1566139e-01,\n",
    "│         8.7007219e-01, 2.2630060e-01],\n",
    "│        [9.9727875e-01, 8.4373832e-01, 1.6000339e-01, 2.4633163e-01,\n",
    "│         2.3823763e-01, 8.2399046e-01, 1.8827255e-01, 8.8332886e-01,\n",
    "│         8.3229095e-01, 2.5822404e-01],\n",
    "│        [8.5621578e-01, 9.9505472e-01, 3.5915750e-01, 4.9225667e-01,\n",
    "│         4.8066992e-01, 9.9040294e-01, 4.0521744e-01, 9.9989134e-01,\n",
    "│         9.9251825e-01, 1.0370907e-01],\n",
    "│        [1.5385361e-01, 3.4799471e-02, 4.5495521e-04, 1.1353940e-03,\n",
    "│         1.0551850e-03, 3.1405244e-02, 6.3750474e-04, 4.3200761e-02,\n",
    "│         3.2778826e-02, 9.3621099e-01]], dtype=float32)>\n",
    "└ @ Main In[233]:21"
   ]
  }
 ],
 "metadata": {
  "kernelspec": {
   "display_name": "Julia 1.2.0",
   "language": "julia",
   "name": "julia-1.2"
  },
  "language_info": {
   "file_extension": ".jl",
   "mimetype": "application/julia",
   "name": "julia",
   "version": "1.2.0"
  }
 },
 "nbformat": 4,
 "nbformat_minor": 4
}
